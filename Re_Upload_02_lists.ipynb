{
  "nbformat": 4,
  "nbformat_minor": 0,
  "metadata": {
    "colab": {
      "provenance": [],
      "authorship_tag": "ABX9TyOH5KNeDe2LQyCqgjUG01Uv",
      "include_colab_link": true
    },
    "kernelspec": {
      "name": "python3",
      "display_name": "Python 3"
    },
    "language_info": {
      "name": "python"
    },
    "widgets": {
      "application/vnd.jupyter.widget-state+json": {
        "7d1a076db813467abdd9afc3a1416a2b": {
          "model_module": "@jupyter-widgets/controls",
          "model_name": "TextModel",
          "model_module_version": "1.5.0",
          "state": {
            "_dom_classes": [],
            "_model_module": "@jupyter-widgets/controls",
            "_model_module_version": "1.5.0",
            "_model_name": "TextModel",
            "_view_count": null,
            "_view_module": "@jupyter-widgets/controls",
            "_view_module_version": "1.5.0",
            "_view_name": "TextView",
            "continuous_update": true,
            "description": "Element:",
            "description_tooltip": null,
            "disabled": false,
            "layout": "IPY_MODEL_3da803690d754a0aa8007a23946a9248",
            "placeholder": "Enter list element and press \"Add\"",
            "style": "IPY_MODEL_e4b8371752cb4dde808858a51f0485d6",
            "value": ""
          }
        },
        "3da803690d754a0aa8007a23946a9248": {
          "model_module": "@jupyter-widgets/base",
          "model_name": "LayoutModel",
          "model_module_version": "1.2.0",
          "state": {
            "_model_module": "@jupyter-widgets/base",
            "_model_module_version": "1.2.0",
            "_model_name": "LayoutModel",
            "_view_count": null,
            "_view_module": "@jupyter-widgets/base",
            "_view_module_version": "1.2.0",
            "_view_name": "LayoutView",
            "align_content": null,
            "align_items": null,
            "align_self": null,
            "border": null,
            "bottom": null,
            "display": null,
            "flex": null,
            "flex_flow": null,
            "grid_area": null,
            "grid_auto_columns": null,
            "grid_auto_flow": null,
            "grid_auto_rows": null,
            "grid_column": null,
            "grid_gap": null,
            "grid_row": null,
            "grid_template_areas": null,
            "grid_template_columns": null,
            "grid_template_rows": null,
            "height": null,
            "justify_content": null,
            "justify_items": null,
            "left": null,
            "margin": null,
            "max_height": null,
            "max_width": null,
            "min_height": null,
            "min_width": null,
            "object_fit": null,
            "object_position": null,
            "order": null,
            "overflow": null,
            "overflow_x": null,
            "overflow_y": null,
            "padding": null,
            "right": null,
            "top": null,
            "visibility": null,
            "width": "500px"
          }
        },
        "e4b8371752cb4dde808858a51f0485d6": {
          "model_module": "@jupyter-widgets/controls",
          "model_name": "DescriptionStyleModel",
          "model_module_version": "1.5.0",
          "state": {
            "_model_module": "@jupyter-widgets/controls",
            "_model_module_version": "1.5.0",
            "_model_name": "DescriptionStyleModel",
            "_view_count": null,
            "_view_module": "@jupyter-widgets/base",
            "_view_module_version": "1.2.0",
            "_view_name": "StyleView",
            "description_width": ""
          }
        },
        "05877f4dfdd74738b02399da82e1e6dc": {
          "model_module": "@jupyter-widgets/controls",
          "model_name": "ButtonModel",
          "model_module_version": "1.5.0",
          "state": {
            "_dom_classes": [],
            "_model_module": "@jupyter-widgets/controls",
            "_model_module_version": "1.5.0",
            "_model_name": "ButtonModel",
            "_view_count": null,
            "_view_module": "@jupyter-widgets/controls",
            "_view_module_version": "1.5.0",
            "_view_name": "ButtonView",
            "button_style": "",
            "description": "Add",
            "disabled": false,
            "icon": "",
            "layout": "IPY_MODEL_65fccc84b5ad4a6798d42714b51b00d9",
            "style": "IPY_MODEL_2921c7bf385a492db5e699ea4892a11f",
            "tooltip": ""
          }
        },
        "65fccc84b5ad4a6798d42714b51b00d9": {
          "model_module": "@jupyter-widgets/base",
          "model_name": "LayoutModel",
          "model_module_version": "1.2.0",
          "state": {
            "_model_module": "@jupyter-widgets/base",
            "_model_module_version": "1.2.0",
            "_model_name": "LayoutModel",
            "_view_count": null,
            "_view_module": "@jupyter-widgets/base",
            "_view_module_version": "1.2.0",
            "_view_name": "LayoutView",
            "align_content": null,
            "align_items": null,
            "align_self": null,
            "border": null,
            "bottom": null,
            "display": null,
            "flex": null,
            "flex_flow": null,
            "grid_area": null,
            "grid_auto_columns": null,
            "grid_auto_flow": null,
            "grid_auto_rows": null,
            "grid_column": null,
            "grid_gap": null,
            "grid_row": null,
            "grid_template_areas": null,
            "grid_template_columns": null,
            "grid_template_rows": null,
            "height": null,
            "justify_content": null,
            "justify_items": null,
            "left": null,
            "margin": null,
            "max_height": null,
            "max_width": null,
            "min_height": null,
            "min_width": null,
            "object_fit": null,
            "object_position": null,
            "order": null,
            "overflow": null,
            "overflow_x": null,
            "overflow_y": null,
            "padding": null,
            "right": null,
            "top": null,
            "visibility": null,
            "width": null
          }
        },
        "2921c7bf385a492db5e699ea4892a11f": {
          "model_module": "@jupyter-widgets/controls",
          "model_name": "ButtonStyleModel",
          "model_module_version": "1.5.0",
          "state": {
            "_model_module": "@jupyter-widgets/controls",
            "_model_module_version": "1.5.0",
            "_model_name": "ButtonStyleModel",
            "_view_count": null,
            "_view_module": "@jupyter-widgets/base",
            "_view_module_version": "1.2.0",
            "_view_name": "StyleView",
            "button_color": null,
            "font_weight": ""
          }
        },
        "b916735a65594b07b0186549844db534": {
          "model_module": "@jupyter-widgets/controls",
          "model_name": "ButtonModel",
          "model_module_version": "1.5.0",
          "state": {
            "_dom_classes": [],
            "_model_module": "@jupyter-widgets/controls",
            "_model_module_version": "1.5.0",
            "_model_name": "ButtonModel",
            "_view_count": null,
            "_view_module": "@jupyter-widgets/controls",
            "_view_module_version": "1.5.0",
            "_view_name": "ButtonView",
            "button_style": "success",
            "description": "Finish",
            "disabled": false,
            "icon": "",
            "layout": "IPY_MODEL_f95e018da0f1413984668f450f5c27ed",
            "style": "IPY_MODEL_9b895cd840944f9398eca7d58da8fa2a",
            "tooltip": ""
          }
        },
        "f95e018da0f1413984668f450f5c27ed": {
          "model_module": "@jupyter-widgets/base",
          "model_name": "LayoutModel",
          "model_module_version": "1.2.0",
          "state": {
            "_model_module": "@jupyter-widgets/base",
            "_model_module_version": "1.2.0",
            "_model_name": "LayoutModel",
            "_view_count": null,
            "_view_module": "@jupyter-widgets/base",
            "_view_module_version": "1.2.0",
            "_view_name": "LayoutView",
            "align_content": null,
            "align_items": null,
            "align_self": null,
            "border": null,
            "bottom": null,
            "display": null,
            "flex": null,
            "flex_flow": null,
            "grid_area": null,
            "grid_auto_columns": null,
            "grid_auto_flow": null,
            "grid_auto_rows": null,
            "grid_column": null,
            "grid_gap": null,
            "grid_row": null,
            "grid_template_areas": null,
            "grid_template_columns": null,
            "grid_template_rows": null,
            "height": null,
            "justify_content": null,
            "justify_items": null,
            "left": null,
            "margin": null,
            "max_height": null,
            "max_width": null,
            "min_height": null,
            "min_width": null,
            "object_fit": null,
            "object_position": null,
            "order": null,
            "overflow": null,
            "overflow_x": null,
            "overflow_y": null,
            "padding": null,
            "right": null,
            "top": null,
            "visibility": null,
            "width": null
          }
        },
        "9b895cd840944f9398eca7d58da8fa2a": {
          "model_module": "@jupyter-widgets/controls",
          "model_name": "ButtonStyleModel",
          "model_module_version": "1.5.0",
          "state": {
            "_model_module": "@jupyter-widgets/controls",
            "_model_module_version": "1.5.0",
            "_model_name": "ButtonStyleModel",
            "_view_count": null,
            "_view_module": "@jupyter-widgets/base",
            "_view_module_version": "1.2.0",
            "_view_name": "StyleView",
            "button_color": null,
            "font_weight": ""
          }
        },
        "da14020cccd44a209e0a9f0f2c90d4ea": {
          "model_module": "@jupyter-widgets/output",
          "model_name": "OutputModel",
          "model_module_version": "1.0.0",
          "state": {
            "_dom_classes": [],
            "_model_module": "@jupyter-widgets/output",
            "_model_module_version": "1.0.0",
            "_model_name": "OutputModel",
            "_view_count": null,
            "_view_module": "@jupyter-widgets/output",
            "_view_module_version": "1.0.0",
            "_view_name": "OutputView",
            "layout": "IPY_MODEL_75296c32c88543f5b9a09f7dc8a939ff",
            "msg_id": "",
            "outputs": []
          }
        },
        "75296c32c88543f5b9a09f7dc8a939ff": {
          "model_module": "@jupyter-widgets/base",
          "model_name": "LayoutModel",
          "model_module_version": "1.2.0",
          "state": {
            "_model_module": "@jupyter-widgets/base",
            "_model_module_version": "1.2.0",
            "_model_name": "LayoutModel",
            "_view_count": null,
            "_view_module": "@jupyter-widgets/base",
            "_view_module_version": "1.2.0",
            "_view_name": "LayoutView",
            "align_content": null,
            "align_items": null,
            "align_self": null,
            "border": null,
            "bottom": null,
            "display": null,
            "flex": null,
            "flex_flow": null,
            "grid_area": null,
            "grid_auto_columns": null,
            "grid_auto_flow": null,
            "grid_auto_rows": null,
            "grid_column": null,
            "grid_gap": null,
            "grid_row": null,
            "grid_template_areas": null,
            "grid_template_columns": null,
            "grid_template_rows": null,
            "height": null,
            "justify_content": null,
            "justify_items": null,
            "left": null,
            "margin": null,
            "max_height": null,
            "max_width": null,
            "min_height": null,
            "min_width": null,
            "object_fit": null,
            "object_position": null,
            "order": null,
            "overflow": null,
            "overflow_x": null,
            "overflow_y": null,
            "padding": null,
            "right": null,
            "top": null,
            "visibility": null,
            "width": null
          }
        }
      }
    }
  },
  "cells": [
    {
      "cell_type": "markdown",
      "metadata": {
        "id": "view-in-github",
        "colab_type": "text"
      },
      "source": [
        "<a href=\"https://colab.research.google.com/github/Skybypk/Ai-chatbot/blob/main/Re_Upload_02_lists.ipynb\" target=\"_parent\"><img src=\"https://colab.research.google.com/assets/colab-badge.svg\" alt=\"Open In Colab\"/></a>"
      ]
    },
    {
      "cell_type": "code",
      "source": [
        "print(\"01_add_many_number\")\n",
        "def sum_list(numbers):\n",
        "    total = 0\n",
        "    for num in numbers:\n",
        "        total += num\n",
        "    return total\n",
        "\n",
        "def main():\n",
        "    # Example usage of the function\n",
        "    sample_list = [5, 10, 15, 20]\n",
        "    result = sum_list(sample_list)\n",
        "    print(\"The sum of\", sample_list, \"is:\", result)\n",
        "\n",
        "# This provided line is required at the end of\n",
        "# Python file to call the main() function.\n",
        "if __name__ == '__main__':\n",
        "    main()\n",
        "\n",
        "\n"
      ],
      "metadata": {
        "colab": {
          "base_uri": "https://localhost:8080/"
        },
        "id": "BrxVbG0F2L7y",
        "outputId": "9109ebb5-a01f-48f5-b1a2-01c17992bf63"
      },
      "execution_count": 1,
      "outputs": [
        {
          "output_type": "stream",
          "name": "stdout",
          "text": [
            "01_add_many_number\n",
            "The sum of [5, 10, 15, 20] is: 50\n"
          ]
        }
      ]
    },
    {
      "cell_type": "code",
      "source": [
        "print(\"02_double_list\")\n",
        "def double_numbers(numbers):\n",
        "    for i in range(len(numbers)):\n",
        "        numbers[i] *= 2\n",
        "    return numbers\n",
        "\n",
        "def main():\n",
        "    numbers = [1, 2, 3, 4]\n",
        "    print(\"Original list:\", numbers)\n",
        "    doubled = double_numbers(numbers)\n",
        "    print(\"Doubled list:\", doubled)\n",
        "\n",
        "# This provided line is required at the end of\n",
        "# Python file to call the main() function.\n",
        "if __name__ == '__main__':\n",
        "    main()\n",
        "\n",
        "\n",
        "# Solution\n",
        "def main():\n",
        "    numbers: list[int] = [1, 2, 3, 4]  # Creates a list of numbers\n",
        "\n",
        "    for i in range(len(numbers)):  # Loop through the indices of the list\n",
        "        elem_at_index = numbers[i]  # Get the element at index i in the numbers list\n",
        "        numbers[i] = elem_at_index * 2  # Set the element at index i to be equal to the previous element times 2\n",
        "\n",
        "    print(numbers)  # This should print the doubled list\n",
        "\n",
        "\n",
        "# There is no need to edit code beyond this point\n",
        "\n",
        "if __name__ == '__main__':\n",
        "    main()\n"
      ],
      "metadata": {
        "colab": {
          "base_uri": "https://localhost:8080/"
        },
        "id": "pYAfCRMx2RHF",
        "outputId": "03b772fd-6222-4182-c716-2c7c6a8057e1"
      },
      "execution_count": 2,
      "outputs": [
        {
          "output_type": "stream",
          "name": "stdout",
          "text": [
            "02_double_list\n",
            "Original list: [1, 2, 3, 4]\n",
            "Doubled list: [2, 4, 6, 8]\n",
            "[2, 4, 6, 8]\n"
          ]
        }
      ]
    },
    {
      "cell_type": "code",
      "source": [
        "print(\"04_flowing_with_data_structures\")\n",
        "\n",
        "def add_three_copies(lst, data):\n",
        "    for i in range(3):\n",
        "        lst.append(data)\n",
        "\n",
        "def main():\n",
        "    message = input(\"Enter message to copy: \")\n",
        "    lst = []\n",
        "    print(\"Before List:\", lst)\n",
        "    add_three_copies(lst, message)\n",
        "    print(\"After List:\", lst)\n",
        "\n",
        "if __name__ == \"__main__\":\n",
        "    main()\n",
        "\n",
        "\n"
      ],
      "metadata": {
        "colab": {
          "base_uri": "https://localhost:8080/"
        },
        "id": "hMSKS1Gi2de8",
        "outputId": "0f80a288-0290-451b-a749-d1e2e202bdb9"
      },
      "execution_count": 3,
      "outputs": [
        {
          "output_type": "stream",
          "name": "stdout",
          "text": [
            "04_flowing_with_data_structures\n",
            "Enter message to copy: Karachi\n",
            "Before List: []\n",
            "After List: ['Karachi', 'Karachi', 'Karachi']\n"
          ]
        }
      ]
    },
    {
      "cell_type": "code",
      "source": [
        "print(\"05_get_first_element\")\n",
        "import ipywidgets as widgets\n",
        "from IPython.display import display, clear_output\n",
        "\n",
        "user_list = []\n",
        "\n",
        "# Widgets\n",
        "element_input = widgets.Text(\n",
        "    value='',\n",
        "    placeholder='Enter list element and press \"Add\"',\n",
        "    description='Element:',\n",
        "    layout=widgets.Layout(width='500px')\n",
        ")\n",
        "add_button = widgets.Button(description=\"Add\")\n",
        "done_button = widgets.Button(description=\"Finish\", button_style='success')\n",
        "output = widgets.Output()\n",
        "\n",
        "# Function to add element\n",
        "def add_element(btn):\n",
        "    elem = element_input.value.strip()\n",
        "    if elem == \"\":\n",
        "        with output:\n",
        "            print(\"You entered nothing. Click 'Finish' if done.\")\n",
        "        return\n",
        "    user_list.append(elem)\n",
        "    with output:\n",
        "        print(f\"Added: {elem}\")\n",
        "    element_input.value = \"\"\n",
        "\n",
        "# Function to show list and first element\n",
        "def finish_input(btn):\n",
        "    clear_output()\n",
        "    if user_list:\n",
        "        print(\"Your List:\", user_list)\n",
        "        print(\"First Element:\", user_list[0])\n",
        "    else:\n",
        "        print(\"List is empty. Nothing to display.\")\n",
        "\n",
        "# Bind buttons\n",
        "add_button.on_click(add_element)\n",
        "done_button.on_click(finish_input)\n",
        "\n",
        "# Display interface\n",
        "display(element_input, add_button, done_button, output)\n"
      ],
      "metadata": {
        "colab": {
          "base_uri": "https://localhost:8080/",
          "height": 130,
          "referenced_widgets": [
            "7d1a076db813467abdd9afc3a1416a2b",
            "3da803690d754a0aa8007a23946a9248",
            "e4b8371752cb4dde808858a51f0485d6",
            "05877f4dfdd74738b02399da82e1e6dc",
            "65fccc84b5ad4a6798d42714b51b00d9",
            "2921c7bf385a492db5e699ea4892a11f",
            "b916735a65594b07b0186549844db534",
            "f95e018da0f1413984668f450f5c27ed",
            "9b895cd840944f9398eca7d58da8fa2a",
            "da14020cccd44a209e0a9f0f2c90d4ea",
            "75296c32c88543f5b9a09f7dc8a939ff"
          ]
        },
        "id": "51q832eB2uWq",
        "outputId": "10236864-1931-440d-fb9b-9116f51e2a59"
      },
      "execution_count": 4,
      "outputs": [
        {
          "output_type": "stream",
          "name": "stdout",
          "text": [
            "05_get_first_element\n"
          ]
        },
        {
          "output_type": "display_data",
          "data": {
            "text/plain": [
              "Text(value='', description='Element:', layout=Layout(width='500px'), placeholder='Enter list element and press…"
            ],
            "application/vnd.jupyter.widget-view+json": {
              "version_major": 2,
              "version_minor": 0,
              "model_id": "7d1a076db813467abdd9afc3a1416a2b"
            }
          },
          "metadata": {}
        },
        {
          "output_type": "display_data",
          "data": {
            "text/plain": [
              "Button(description='Add', style=ButtonStyle())"
            ],
            "application/vnd.jupyter.widget-view+json": {
              "version_major": 2,
              "version_minor": 0,
              "model_id": "05877f4dfdd74738b02399da82e1e6dc"
            }
          },
          "metadata": {}
        },
        {
          "output_type": "display_data",
          "data": {
            "text/plain": [
              "Button(button_style='success', description='Finish', style=ButtonStyle())"
            ],
            "application/vnd.jupyter.widget-view+json": {
              "version_major": 2,
              "version_minor": 0,
              "model_id": "b916735a65594b07b0186549844db534"
            }
          },
          "metadata": {}
        },
        {
          "output_type": "display_data",
          "data": {
            "text/plain": [
              "Output()"
            ],
            "application/vnd.jupyter.widget-view+json": {
              "version_major": 2,
              "version_minor": 0,
              "model_id": "da14020cccd44a209e0a9f0f2c90d4ea"
            }
          },
          "metadata": {}
        }
      ]
    },
    {
      "cell_type": "code",
      "source": [
        "print(\"06_get_last_element\")\n",
        "def get_last_element(lst):\n",
        "    \"\"\"\n",
        "    Prints the last element of the list.\n",
        "    \"\"\"\n",
        "    print(lst[-1])\n",
        "\n",
        "def get_lst():\n",
        "    \"\"\"\n",
        "    Prompts the user to enter one element of the list at a time and returns the resulting list.\n",
        "    \"\"\"\n",
        "    lst = []\n",
        "    elem = input(\"Please enter an element of the list or press enter to stop: \")\n",
        "    while elem != \"\":\n",
        "        lst.append(elem)\n",
        "        elem = input(\"Please enter an element of the list or press enter to stop: \")\n",
        "    return lst\n",
        "\n",
        "def main():\n",
        "    # Get the list from the user\n",
        "    user_list = get_lst()\n",
        "\n",
        "    # Call the function to print the last element\n",
        "    get_last_element(user_list)\n",
        "\n",
        "# Python boilerplate to call the main function\n",
        "if __name__ == '__main__':\n",
        "    main()\n",
        "\n",
        "#Solution\n",
        "def get_last_element(lst):\n",
        "    \"\"\"\n",
        "    Prints the last element of the provided list.\n",
        "    \"\"\"\n",
        "    # Takes the length of the list and subtracts 1 since lists are zero-indexed\n",
        "    print(lst[len(lst) - 1])\n",
        "    # Or you could just use: print(lst[-1])\n",
        "\n",
        "\n",
        "def get_lst():\n",
        "    \"\"\"\n",
        "    Prompts the user to enter one element of the list at a time and returns the resulting list.\n",
        "    \"\"\"\n",
        "    lst = []\n",
        "    elem = input(\"Please enter an element of the list or press enter to stop. \")\n",
        "    while elem != \"\":\n",
        "        lst.append(elem)\n",
        "        elem = input(\"Please enter an element of the list or press enter to stop. \")\n",
        "    return lst\n",
        "\n",
        "\n",
        "def main():\n",
        "    lst = get_lst()\n",
        "    if len(lst) > 0:\n",
        "        get_last_element(lst)\n",
        "    else:\n",
        "        print(\"The list is empty, no last element to show.\")\n",
        "\n",
        "\n",
        "# This provided line is required at the end of Python file to call the main() function.\n",
        "if __name__ == '__main__':\n",
        "    main()\n"
      ],
      "metadata": {
        "colab": {
          "base_uri": "https://localhost:8080/"
        },
        "id": "bn_nBpFS5YXy",
        "outputId": "4d311874-dc09-41c9-d702-576579984403"
      },
      "execution_count": null,
      "outputs": [
        {
          "output_type": "stream",
          "name": "stdout",
          "text": [
            "06_get_last_element\n",
            "Please enter an element of the list or press enter to stop: 11\n",
            "Please enter an element of the list or press enter to stop: 22\n",
            "Please enter an element of the list or press enter to stop: 33\n",
            "Please enter an element of the list or press enter to stop: 44\n",
            "Please enter an element of the list or press enter to stop: 55\n",
            "Please enter an element of the list or press enter to stop: 66\n",
            "Please enter an element of the list or press enter to stop: \n",
            "66\n"
          ]
        }
      ]
    }
  ]
}